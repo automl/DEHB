{
 "cells": [
  {
   "cell_type": "markdown",
   "metadata": {},
   "source": [
    "This notebook repeats the example from `01_Optimizing_RandomForest_using_DEHB` but without using `ConfigSpace` for the parameter space, or the search space definition.\n",
    "\n",
    "***"
   ]
  },
  {
   "cell_type": "code",
   "execution_count": 1,
   "metadata": {},
   "outputs": [],
   "source": [
    "import time\n",
    "import numpy as np\n",
    "import warnings\n",
    "\n",
    "\n",
    "seed = 123\n",
    "np.random.seed(seed)\n",
    "warnings.filterwarnings('ignore')"
   ]
  },
  {
   "cell_type": "markdown",
   "metadata": {},
   "source": [
    "The hyperparameters chosen, along with their *type*, and *ranges*:\n",
    "* `max_depth` $-$ *integer* $-$ [1, 15]\n",
    "* `min_samples_split` $-$ *integer* $-$ [2, 128] $-$ *log*-spacing\n",
    "* `max_features` $-$ *float* $-$ [0.1, 0.9]\n",
    "* `min_samples_leaf` $-$ *integer* $-$ [1, 64] $-$ *log*-spacing \n",
    "\n",
    "DE, and therefore DEHB, work in the unit hypercube space. The random individuals sampled at the beginning of DEHB, performs a uniform random sampling in the [0, 1] range for each parameter/dimension. Hence, each configuration suggested by DEHB also is in the [0, 1] range. The `vector_to_configspace` included in the DEHB source code, can reliably handle the transformation of the [0, 1] space of DEHB configurations to the original parameter space required. **In the absence of ConfigSpace usage, such a conversion needs to included as part of the objective/target function being passed.**"
   ]
  },
  {
   "cell_type": "markdown",
   "metadata": {},
   "source": [
    "### Defining transformation from DEHB [0,1]-space to original parameter space"
   ]
  },
  {
   "cell_type": "code",
   "execution_count": 2,
   "metadata": {},
   "outputs": [],
   "source": [
    "# Declaring the search space\n",
    "param_space = {\n",
    "    \"max_depth\": [1, 15, int, False],\n",
    "    \"min_samples_split\": [2, 128, int, True],\n",
    "    \"max_features\": [0.1, 0.9, float, False],\n",
    "    \"min_samples_leaf\": [1, 64, int, True],\n",
    "}\n",
    "dimensions = len(param_space)\n",
    "\n",
    "# Declaring the fidelity range\n",
    "min_budget, max_budget = 2, 50\n",
    "\n",
    "\n",
    "def transform_space(param_space, configuration):\n",
    "    \"\"\" Scales the [0, 1]-ranged parameter linearly to [lower, upper]\n",
    "    \n",
    "    Parameters\n",
    "    ----------\n",
    "    param_space : a dict containing the parameters and their meta-info\n",
    "    configuration : a vector with each dimension in [0, 1] (from DEHB)\n",
    "    \n",
    "    Results\n",
    "    -------\n",
    "    a dict which can be passed to the model as named hyperparameters\n",
    "    \"\"\"\n",
    "    assert len(configuration) == len(param_space)\n",
    "    config_dict = dict()\n",
    "    for i, (k, v) in enumerate(param_space.items()):\n",
    "        value = configuration[i]\n",
    "        lower, upper = v[0], v[1]\n",
    "        is_log = v[3]\n",
    "        if is_log:\n",
    "            # performs linear scaling in the log-space\n",
    "            log_range = np.log(upper) - np.log(lower)\n",
    "            value = np.exp(np.log(lower) + log_range * value)\n",
    "        else:\n",
    "            # linear scaling within the range of the parameter\n",
    "            value = lower + (upper - lower) * value\n",
    "        if v[2] == int:\n",
    "            value = np.round(value).astype(int)\n",
    "        config_dict[k] = value\n",
    "    return config_dict    "
   ]
  },
  {
   "cell_type": "markdown",
   "metadata": {},
   "source": [
    "**NOTE**: To handle categorical parameters would require custom representations for such cases. Categorical parameters don't have a lower or upper range but rather a possible list of discrete choices or values. Moreoever, categorical parameters can be string categories, boolean or even ordinal in nature.\n",
    "\n",
    "\n",
    "Given this `transform_space` function, everything else from `01_Optimizing_RandomForest_using_DEHB` can be largely reused. Only the `target_function` needs to be modified to include the `transform_space` function. Also, the `configspace` parameter needs to be set tp `False` while initializing DEHB."
   ]
  },
  {
   "cell_type": "markdown",
   "metadata": {},
   "source": [
    "### Defining the target_function"
   ]
  },
  {
   "cell_type": "code",
   "execution_count": 3,
   "metadata": {},
   "outputs": [
    {
     "name": "stdout",
     "output_type": "stream",
     "text": [
      "digits\n",
      "Train size: (1257, 64)\n",
      "Valid size: (540, 64)\n",
      "Test size: (180, 64)\n"
     ]
    }
   ],
   "source": [
    "from sklearn.datasets import load_digits, load_wine\n",
    "from sklearn.model_selection import train_test_split\n",
    "from sklearn.ensemble import RandomForestClassifier\n",
    "from sklearn.metrics import accuracy_score, make_scorer\n",
    "\n",
    "\n",
    "accuracy_scorer = make_scorer(accuracy_score)\n",
    "\n",
    "\n",
    "def prepare_dataset(model_type=\"classification\"):\n",
    "\n",
    "    if model_type == \"classification\":\n",
    "        dataset = np.random.choice(list(classification.keys()))\n",
    "        _data = classification[dataset]()\n",
    "    else:\n",
    "        dataset = np.random.choice(list(regression.keys()))\n",
    "        _data = regression[dataset]()\n",
    "\n",
    "    train_X, test_X, train_y, test_y = train_test_split(\n",
    "        _data.get(\"data\"), \n",
    "        _data.get(\"target\"), \n",
    "        test_size=0.1, \n",
    "        shuffle=True, \n",
    "        random_state=seed\n",
    "    )\n",
    "    train_X, valid_X, train_y, valid_y = train_test_split(\n",
    "        _data.get(\"data\"), \n",
    "        _data.get(\"target\"), \n",
    "        test_size=0.3, \n",
    "        shuffle=True, \n",
    "        random_state=seed\n",
    "    )\n",
    "    return train_X, train_y, valid_X, valid_y, test_X, test_y, dataset\n",
    "\n",
    "\n",
    "def target_function(config, budget, **kwargs):\n",
    "    # Extracting support information\n",
    "    seed = kwargs[\"seed\"]\n",
    "    train_X = kwargs[\"train_X\"]\n",
    "    train_y = kwargs[\"train_y\"]\n",
    "    valid_X = kwargs[\"valid_X\"]\n",
    "    valid_y = kwargs[\"valid_y\"]\n",
    "    max_budget = kwargs[\"max_budget\"]\n",
    "    \n",
    "    # Mapping [0, 1]-vector to Sklearn parameters\n",
    "    param_space = kwargs[\"param_space\"]\n",
    "    config = transform_space(param_space, config)\n",
    "    \n",
    "    if budget is None:\n",
    "        budget = max_budget\n",
    "    \n",
    "    start = time.time()\n",
    "    # Building model \n",
    "    model = RandomForestClassifier(\n",
    "        **config,\n",
    "        n_estimators=int(budget),\n",
    "        bootstrap=True,\n",
    "        random_state=seed,\n",
    "    )\n",
    "    # Training the model on the complete training set\n",
    "    model.fit(train_X, train_y)\n",
    "    \n",
    "    # Evaluating the model on the validation set\n",
    "    valid_accuracy = accuracy_scorer(model, valid_X, valid_y)\n",
    "    cost = time.time() - start\n",
    "    \n",
    "    # Evaluating the model on the test set as additional info\n",
    "    test_accuracy = accuracy_scorer(model, test_X, test_y)\n",
    "    \n",
    "    result = {\n",
    "        \"fitness\": -valid_accuracy,  # DE/DEHB minimizes\n",
    "        \"cost\": cost,\n",
    "        \"info\": {\n",
    "            \"test_score\": test_accuracy,\n",
    "            \"budget\": budget\n",
    "        }\n",
    "    }\n",
    "    return result\n",
    "\n",
    "\n",
    "classification = {\"digits\": load_digits, \"wine\": load_wine}\n",
    "train_X, train_y, valid_X, valid_y, test_X, test_y, dataset = \\\n",
    "    prepare_dataset(model_type=\"classification\")\n",
    "\n",
    "print(dataset)\n",
    "print(\"Train size: {}\\nValid size: {}\\nTest size: {}\".format(\n",
    "    train_X.shape, valid_X.shape, test_X.shape\n",
    "))"
   ]
  },
  {
   "cell_type": "markdown",
   "metadata": {},
   "source": [
    "### Running DEHB"
   ]
  },
  {
   "cell_type": "code",
   "execution_count": 4,
   "metadata": {},
   "outputs": [],
   "source": [
    "from dehb import DEHB\n",
    "\n",
    "\n",
    "dehb = DEHB(\n",
    "    f=target_function, \n",
    "    dimensions=dimensions, \n",
    "    min_budget=min_budget, \n",
    "    max_budget=max_budget,\n",
    "    n_workers=1,\n",
    "    output_path=\"./temp\"\n",
    ")"
   ]
  },
  {
   "cell_type": "code",
   "execution_count": 5,
   "metadata": {},
   "outputs": [],
   "source": [
    "trajectory, runtime, history = dehb.run(\n",
    "    total_cost=10, \n",
    "    verbose=False,\n",
    "    save_intermediate=False,\n",
    "    seed=123,\n",
    "    train_X=train_X,\n",
    "    train_y=train_y,\n",
    "    valid_X=valid_X,\n",
    "    valid_y=valid_y,\n",
    "    max_budget=dehb.max_budget,\n",
    "    param_space=param_space\n",
    ")"
   ]
  },
  {
   "cell_type": "code",
   "execution_count": 6,
   "metadata": {},
   "outputs": [
    {
     "name": "stdout",
     "output_type": "stream",
     "text": [
      "Incumbent score: -0.9685185185185186\n",
      "Incumbent configuration:\n",
      "{'max_depth': 10, 'min_samples_split': 3, 'max_features': 0.24012458257841524, 'min_samples_leaf': 2}\n"
     ]
    }
   ],
   "source": [
    "print(\"Incumbent score: {}\".format(dehb.inc_score))\n",
    "print(\"Incumbent configuration:\\n{}\".format(transform_space(param_space, dehb.inc_config)))"
   ]
  },
  {
   "cell_type": "markdown",
   "metadata": {},
   "source": [
    "##### Evaluating the incumbent"
   ]
  },
  {
   "cell_type": "code",
   "execution_count": 7,
   "metadata": {},
   "outputs": [
    {
     "name": "stdout",
     "output_type": "stream",
     "text": [
      "Test accuracy: 1.0\n"
     ]
    }
   ],
   "source": [
    "model = RandomForestClassifier(\n",
    "    **transform_space(param_space, dehb.inc_config),\n",
    "    n_estimators=int(max_budget),\n",
    "    bootstrap=True,\n",
    "    random_state=seed,\n",
    ")\n",
    "model.fit(\n",
    "    np.concatenate((train_X, valid_X)),\n",
    "    np.concatenate((train_y, valid_y))\n",
    ")\n",
    "test_accuracy = accuracy_scorer(model, test_X, test_y)\n",
    "print(\"Test accuracy: {}\".format(test_accuracy))"
   ]
  },
  {
   "cell_type": "markdown",
   "metadata": {},
   "source": [
    "##### Plotting the optimization trace with the update of incumbents over time"
   ]
  },
  {
   "cell_type": "code",
   "execution_count": 8,
   "metadata": {},
   "outputs": [
    {
     "data": {
      "image/png": "[encoded data removed]",
      "text/plain": [
       "<Figure size 432x288 with 1 Axes>"
      ]
     },
     "metadata": {
      "needs_background": "light"
     },
     "output_type": "display_data"
    }
   ],
   "source": [
    "from matplotlib import pyplot as plt\n",
    "\n",
    "plt.plot(np.cumsum(runtime), np.array(trajectory) + 1)\n",
    "plt.xlabel(\"Wallclock time in seconds\")\n",
    "plt.ylabel(\"Regret (1 - accuracy)\");"
   ]
  }
 ],
 "metadata": {
  "kernelspec": {
   "display_name": "dask",
   "language": "python",
   "name": "dask"
  },
  "language_info": {
   "codemirror_mode": {
    "name": "ipython",
    "version": 3
   },
   "file_extension": ".py",
   "mimetype": "text/x-python",
   "name": "python",
   "nbconvert_exporter": "python",
   "pygments_lexer": "ipython3",
   "version": "3.6.9"
  }
 },
 "nbformat": 4,
 "nbformat_minor": 4
}
